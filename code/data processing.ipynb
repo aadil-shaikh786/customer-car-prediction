{
 "cells": [
  {
   "cell_type": "markdown",
   "metadata": {},
   "source": [
    "### 1. Get data"
   ]
  },
  {
   "cell_type": "code",
   "execution_count": 1,
   "metadata": {},
   "outputs": [
    {
     "name": "stderr",
     "output_type": "stream",
     "text": [
      "/home/shayan/.local/lib/python3.8/site-packages/scipy/__init__.py:138: UserWarning: A NumPy version >=1.16.5 and <1.23.0 is required for this version of SciPy (detected version 1.23.5)\n",
      "  warnings.warn(f\"A NumPy version >={np_minversion} and <{np_maxversion} is required for this version of \"\n"
     ]
    }
   ],
   "source": [
    "import matplotlib.pyplot as plt\n",
    "import seaborn as sns\n",
    "import numpy as np\n",
    "import pandas as pd\n",
    "\n",
    "def load_data():\n",
    "    url = r\"https://raw.githubusercontent.com/sijiao-liu/customer-car-prediction/refs/heads/main/data/car_sales.csv\"\n",
    "    return pd.read_csv(url)"
   ]
  },
  {
   "cell_type": "code",
   "execution_count": 2,
   "metadata": {},
   "outputs": [
    {
     "data": {
      "text/html": [
       "<div>\n",
       "<style scoped>\n",
       "    .dataframe tbody tr th:only-of-type {\n",
       "        vertical-align: middle;\n",
       "    }\n",
       "\n",
       "    .dataframe tbody tr th {\n",
       "        vertical-align: top;\n",
       "    }\n",
       "\n",
       "    .dataframe thead th {\n",
       "        text-align: right;\n",
       "    }\n",
       "</style>\n",
       "<table border=\"1\" class=\"dataframe\">\n",
       "  <thead>\n",
       "    <tr style=\"text-align: right;\">\n",
       "      <th></th>\n",
       "      <th>Car_id</th>\n",
       "      <th>Date</th>\n",
       "      <th>Customer Name</th>\n",
       "      <th>Gender</th>\n",
       "      <th>Annual Income</th>\n",
       "      <th>Dealer_Name</th>\n",
       "      <th>Company</th>\n",
       "      <th>Model</th>\n",
       "      <th>Engine</th>\n",
       "      <th>Transmission</th>\n",
       "      <th>Color</th>\n",
       "      <th>Price ($)</th>\n",
       "      <th>Dealer_No</th>\n",
       "      <th>Body Style</th>\n",
       "      <th>Phone</th>\n",
       "      <th>Dealer_Region</th>\n",
       "    </tr>\n",
       "  </thead>\n",
       "  <tbody>\n",
       "    <tr>\n",
       "      <th>0</th>\n",
       "      <td>C_CND_000001</td>\n",
       "      <td>1/2/2022</td>\n",
       "      <td>Geraldine</td>\n",
       "      <td>Male</td>\n",
       "      <td>13500</td>\n",
       "      <td>Buddy Storbeck's Diesel Service Inc</td>\n",
       "      <td>Ford</td>\n",
       "      <td>Expedition</td>\n",
       "      <td>DoubleÂ Overhead Camshaft</td>\n",
       "      <td>Auto</td>\n",
       "      <td>Black</td>\n",
       "      <td>26000</td>\n",
       "      <td>06457-3834</td>\n",
       "      <td>SUV</td>\n",
       "      <td>8264678</td>\n",
       "      <td>Middletown</td>\n",
       "    </tr>\n",
       "    <tr>\n",
       "      <th>1</th>\n",
       "      <td>C_CND_000002</td>\n",
       "      <td>1/2/2022</td>\n",
       "      <td>Gia</td>\n",
       "      <td>Male</td>\n",
       "      <td>1480000</td>\n",
       "      <td>C &amp; M Motors Inc</td>\n",
       "      <td>Dodge</td>\n",
       "      <td>Durango</td>\n",
       "      <td>DoubleÂ Overhead Camshaft</td>\n",
       "      <td>Auto</td>\n",
       "      <td>Black</td>\n",
       "      <td>19000</td>\n",
       "      <td>60504-7114</td>\n",
       "      <td>SUV</td>\n",
       "      <td>6848189</td>\n",
       "      <td>Aurora</td>\n",
       "    </tr>\n",
       "    <tr>\n",
       "      <th>2</th>\n",
       "      <td>C_CND_000003</td>\n",
       "      <td>1/2/2022</td>\n",
       "      <td>Gianna</td>\n",
       "      <td>Male</td>\n",
       "      <td>1035000</td>\n",
       "      <td>Capitol KIA</td>\n",
       "      <td>Cadillac</td>\n",
       "      <td>Eldorado</td>\n",
       "      <td>Overhead Camshaft</td>\n",
       "      <td>Manual</td>\n",
       "      <td>Red</td>\n",
       "      <td>31500</td>\n",
       "      <td>38701-8047</td>\n",
       "      <td>Passenger</td>\n",
       "      <td>7298798</td>\n",
       "      <td>Greenville</td>\n",
       "    </tr>\n",
       "    <tr>\n",
       "      <th>3</th>\n",
       "      <td>C_CND_000004</td>\n",
       "      <td>1/2/2022</td>\n",
       "      <td>Giselle</td>\n",
       "      <td>Male</td>\n",
       "      <td>13500</td>\n",
       "      <td>Chrysler of Tri-Cities</td>\n",
       "      <td>Toyota</td>\n",
       "      <td>Celica</td>\n",
       "      <td>Overhead Camshaft</td>\n",
       "      <td>Manual</td>\n",
       "      <td>Pale White</td>\n",
       "      <td>14000</td>\n",
       "      <td>99301-3882</td>\n",
       "      <td>SUV</td>\n",
       "      <td>6257557</td>\n",
       "      <td>Pasco</td>\n",
       "    </tr>\n",
       "    <tr>\n",
       "      <th>4</th>\n",
       "      <td>C_CND_000005</td>\n",
       "      <td>1/2/2022</td>\n",
       "      <td>Grace</td>\n",
       "      <td>Male</td>\n",
       "      <td>1465000</td>\n",
       "      <td>Chrysler Plymouth</td>\n",
       "      <td>Acura</td>\n",
       "      <td>TL</td>\n",
       "      <td>DoubleÂ Overhead Camshaft</td>\n",
       "      <td>Auto</td>\n",
       "      <td>Red</td>\n",
       "      <td>24500</td>\n",
       "      <td>53546-9427</td>\n",
       "      <td>Hatchback</td>\n",
       "      <td>7081483</td>\n",
       "      <td>Janesville</td>\n",
       "    </tr>\n",
       "  </tbody>\n",
       "</table>\n",
       "</div>"
      ],
      "text/plain": [
       "         Car_id      Date Customer Name Gender  Annual Income  \\\n",
       "0  C_CND_000001  1/2/2022     Geraldine   Male          13500   \n",
       "1  C_CND_000002  1/2/2022           Gia   Male        1480000   \n",
       "2  C_CND_000003  1/2/2022        Gianna   Male        1035000   \n",
       "3  C_CND_000004  1/2/2022       Giselle   Male          13500   \n",
       "4  C_CND_000005  1/2/2022         Grace   Male        1465000   \n",
       "\n",
       "                           Dealer_Name   Company       Model  \\\n",
       "0  Buddy Storbeck's Diesel Service Inc      Ford  Expedition   \n",
       "1                     C & M Motors Inc     Dodge     Durango   \n",
       "2                          Capitol KIA  Cadillac    Eldorado   \n",
       "3               Chrysler of Tri-Cities    Toyota      Celica   \n",
       "4                    Chrysler Plymouth     Acura          TL   \n",
       "\n",
       "                      Engine Transmission       Color  Price ($)  Dealer_No   \\\n",
       "0  DoubleÂ Overhead Camshaft         Auto       Black      26000  06457-3834   \n",
       "1  DoubleÂ Overhead Camshaft         Auto       Black      19000  60504-7114   \n",
       "2          Overhead Camshaft       Manual         Red      31500  38701-8047   \n",
       "3          Overhead Camshaft       Manual  Pale White      14000  99301-3882   \n",
       "4  DoubleÂ Overhead Camshaft         Auto         Red      24500  53546-9427   \n",
       "\n",
       "  Body Style    Phone Dealer_Region  \n",
       "0        SUV  8264678    Middletown  \n",
       "1        SUV  6848189        Aurora  \n",
       "2  Passenger  7298798    Greenville  \n",
       "3        SUV  6257557         Pasco  \n",
       "4  Hatchback  7081483    Janesville  "
      ]
     },
     "execution_count": 2,
     "metadata": {},
     "output_type": "execute_result"
    }
   ],
   "source": [
    "c = load_data()\n",
    "c.head()"
   ]
  },
  {
   "cell_type": "markdown",
   "metadata": {},
   "source": [
    "\n",
    "### 2. Explore data\n",
    "\n",
    "2.1 Datasets information and types"
   ]
  },
  {
   "cell_type": "code",
   "execution_count": 3,
   "metadata": {},
   "outputs": [
    {
     "name": "stdout",
     "output_type": "stream",
     "text": [
      "<class 'pandas.core.frame.DataFrame'>\n",
      "RangeIndex: 23906 entries, 0 to 23905\n",
      "Data columns (total 16 columns):\n",
      " #   Column         Non-Null Count  Dtype \n",
      "---  ------         --------------  ----- \n",
      " 0   Car_id         23906 non-null  object\n",
      " 1   Date           23906 non-null  object\n",
      " 2   Customer Name  23905 non-null  object\n",
      " 3   Gender         23906 non-null  object\n",
      " 4   Annual Income  23906 non-null  int64 \n",
      " 5   Dealer_Name    23906 non-null  object\n",
      " 6   Company        23906 non-null  object\n",
      " 7   Model          23906 non-null  object\n",
      " 8   Engine         23906 non-null  object\n",
      " 9   Transmission   23906 non-null  object\n",
      " 10  Color          23906 non-null  object\n",
      " 11  Price ($)      23906 non-null  int64 \n",
      " 12  Dealer_No      23906 non-null  object\n",
      " 13  Body Style     23906 non-null  object\n",
      " 14  Phone          23906 non-null  int64 \n",
      " 15  Dealer_Region  23906 non-null  object\n",
      "dtypes: int64(3), object(13)\n",
      "memory usage: 2.9+ MB\n"
     ]
    },
    {
     "data": {
      "text/plain": [
       "(23906, 16)"
      ]
     },
     "execution_count": 3,
     "metadata": {},
     "output_type": "execute_result"
    }
   ],
   "source": [
    "c.info()\n",
    "c.shape"
   ]
  },
  {
   "cell_type": "code",
   "execution_count": 13,
   "metadata": {},
   "outputs": [
    {
     "name": "stdout",
     "output_type": "stream",
     "text": [
      "       Date Gender  Annual Income   Company       Model  \\\n",
      "0  1/2/2022   Male          13500      Ford  Expedition   \n",
      "1  1/2/2022   Male        1480000     Dodge     Durango   \n",
      "2  1/2/2022   Male        1035000  Cadillac    Eldorado   \n",
      "3  1/2/2022   Male          13500    Toyota      Celica   \n",
      "4  1/2/2022   Male        1465000     Acura          TL   \n",
      "\n",
      "                      Engine Transmission       Color  Price ($) Body Style  \\\n",
      "0  DoubleÂ Overhead Camshaft         Auto       Black      26000        SUV   \n",
      "1  DoubleÂ Overhead Camshaft         Auto       Black      19000        SUV   \n",
      "2          Overhead Camshaft       Manual         Red      31500  Passenger   \n",
      "3          Overhead Camshaft       Manual  Pale White      14000        SUV   \n",
      "4  DoubleÂ Overhead Camshaft         Auto         Red      24500  Hatchback   \n",
      "\n",
      "  Dealer_Region  \n",
      "0    Middletown  \n",
      "1        Aurora  \n",
      "2    Greenville  \n",
      "3         Pasco  \n",
      "4    Janesville  \n"
     ]
    }
   ],
   "source": [
    "# Removing extra columns\n",
    "extra_columns = [\n",
    "    'Car_id',\n",
    "    'Customer Name',\n",
    "    'Dealer_Name',\n",
    "    'Phone',\n",
    "    'Dealer_No '\n",
    "]\n",
    "\n",
    "c = c.drop(columns=extra_columns)\n",
    "\n",
    "# Display the cleaned DataFrame\n",
    "print(c.head())"
   ]
  },
  {
   "cell_type": "code",
   "execution_count": 14,
   "metadata": {},
   "outputs": [
    {
     "name": "stdout",
     "output_type": "stream",
     "text": [
      "Date             0\n",
      "Gender           0\n",
      "Annual Income    0\n",
      "Company          0\n",
      "Model            0\n",
      "Engine           0\n",
      "Transmission     0\n",
      "Color            0\n",
      "Price ($)        0\n",
      "Body Style       0\n",
      "Dealer_Region    0\n",
      "dtype: int64\n"
     ]
    }
   ],
   "source": [
    "# Check for null values\n",
    "null_values = c.isnull().sum()\n",
    "\n",
    "print(null_values)"
   ]
  },
  {
   "cell_type": "code",
   "execution_count": 24,
   "metadata": {},
   "outputs": [
    {
     "data": {
      "image/png": "[encoded data removed]",
      "text/plain": [
       "<Figure size 1152x576 with 2 Axes>"
      ]
     },
     "metadata": {
      "needs_background": "light"
     },
     "output_type": "display_data"
    }
   ],
   "source": [
    "plt.figure(figsize=(16, 8))\n",
    "\n",
    "plt.subplot(1, 2, 1)\n",
    "c[\"Annual Income\"].hist(log=True)\n",
    "plt.title(\"Distribution of Annual Incomes\")  \n",
    "plt.xlabel(\"Annual Income\")  \n",
    "plt.ylabel(\"$Frequency$\")  \n",
    "\n",
    "plt.subplot(1, 2, 2)\n",
    "c[\"Price ($)\"].hist(log=True)\n",
    "plt.title(\"Distribution of Cars Price\")  \n",
    "plt.xlabel(\"Car Price\")  \n",
    "plt.ylabel(\"$Frequency$\")  \n",
    "\n",
    "plt.show()"
   ]
  },
  {
   "cell_type": "markdown",
   "metadata": {},
   "source": [
    "### Dataset is clean!\n",
    "\n",
    "# Next Steps:\n",
    "\n",
    "Convert categorical variables to numerical\n",
    "\n",
    "Feature scaling\n",
    "\n",
    "Correlations"
   ]
  }
 ],
 "metadata": {
  "kernelspec": {
   "display_name": "Python 3",
   "language": "python",
   "name": "python3"
  },
  "language_info": {
   "codemirror_mode": {
    "name": "ipython",
    "version": 3
   },
   "file_extension": ".py",
   "mimetype": "text/x-python",
   "name": "python",
   "nbconvert_exporter": "python",
   "pygments_lexer": "ipython3",
   "version": "3.8.10"
  }
 },
 "nbformat": 4,
 "nbformat_minor": 2
}
